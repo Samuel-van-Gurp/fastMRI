{
 "cells": [
  {
   "cell_type": "code",
   "execution_count": null,
   "metadata": {
    "collapsed": true
   },
   "outputs": [],
   "source": [
    "import os\n",
    "import sys\n",
    "import h5py\n",
    "import numpy as np\n",
    "import torch\n",
    "# import BART\n",
    "os.environ['TOOLBOX_PATH'] = \"/home/svangurp/scratch/samuel/bart-0.6.00/\"\n",
    "sys.path.append('/home/svangurp/scratch/samuel/bart-0.6.00/python/')\n",
    "import bart\n",
    "import fastmri.data.transforms as T\n",
    "from fastmri.data.subsample import create_mask_for_mask_type\n",
    "from fastmri import tensor_to_complex_np\n",
    "import matplotlib.pyplot as plt"
   ]
  },
  {
   "cell_type": "code",
   "execution_count": null,
   "metadata": {},
   "outputs": [],
   "source": [
    "fname = '/scratch/svangurp/samuel/data/knee/train/file1000002.h5'\n",
    "data = h5py.File(fname, 'r')\n",
    "kspace = data[\"kspace\"][()]\n",
    "slice = 20"
   ]
  },
  {
   "cell_type": "code",
   "execution_count": null,
   "metadata": {},
   "outputs": [],
   "source": [
    "def pics_func(\n",
    "    A,B\n",
    "    ):\n",
    "    C = A+B "
   ]
  },
  {
   "cell_type": "code",
   "execution_count": null,
   "metadata": {},
   "outputs": [],
   "source": []
  },
  {
   "cell_type": "code",
   "execution_count": null,
   "metadata": {},
   "outputs": [],
   "source": []
  }
 ],
 "metadata": {
  "kernelspec": {
   "display_name": "Python 3",
   "language": "python",
   "name": "python3"
  },
  "language_info": {
   "codemirror_mode": {
    "name": "ipython",
    "version": 3
   },
   "file_extension": ".py",
   "mimetype": "text/x-python",
   "name": "python",
   "nbconvert_exporter": "python",
   "pygments_lexer": "ipython3",
   "version": "3.8.8"
  }
 },
 "nbformat": 4,
 "nbformat_minor": 1
}
