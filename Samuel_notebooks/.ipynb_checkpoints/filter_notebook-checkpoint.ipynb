{
 "cells": [
  {
   "cell_type": "markdown",
   "metadata": {
    "collapsed": true
   },
   "source": [
    "This note book appiels downsampling masks to the fully sampled data from the fastMRI set (based on test_notebook2.ipynb)"
   ]
  },
  {
   "cell_type": "code",
   "execution_count": 1,
   "metadata": {
    "pycharm": {
     "name": "#%%\n"
    }
   },
   "outputs": [],
   "source": [
    "import matplotlib.pyplot as plt\n",
    "import numpy as np\n",
    "import h5py\n",
    "from matplotlib.gridspec import GridSpec\n",
    "import torch\n",
    "import fastmri\n",
    "import os\n",
    "import pywt"
   ]
  },
  {
   "cell_type": "code",
   "execution_count": null,
   "metadata": {},
   "outputs": [],
   "source": []
  },
  {
   "cell_type": "code",
   "execution_count": 2,
   "metadata": {},
   "outputs": [
    {
     "ename": "FileNotFoundError",
     "evalue": "[Errno 2] No such file or directory: '/Users/korat/Desktop/BEP/Programmeren/fastmri/brain/train'",
     "output_type": "error",
     "traceback": [
      "\u001b[0;31m---------------------------------------------------------------------------\u001b[0m",
      "\u001b[0;31mFileNotFoundError\u001b[0m                         Traceback (most recent call last)",
      "\u001b[0;32m<ipython-input-2-97242a3ac2ef>\u001b[0m in \u001b[0;36m<module>\u001b[0;34m\u001b[0m\n\u001b[1;32m      1\u001b[0m \u001b[0;31m# read the files on my local computer\u001b[0m\u001b[0;34m\u001b[0m\u001b[0;34m\u001b[0m\u001b[0;34m\u001b[0m\u001b[0m\n\u001b[1;32m      2\u001b[0m \u001b[0;34m\u001b[0m\u001b[0m\n\u001b[0;32m----> 3\u001b[0;31m \u001b[0mos\u001b[0m\u001b[0;34m.\u001b[0m\u001b[0mchdir\u001b[0m\u001b[0;34m(\u001b[0m\u001b[0;34m'/Users/korat/Desktop/BEP/Programmeren/fastmri/brain/train'\u001b[0m\u001b[0;34m)\u001b[0m\u001b[0;34m\u001b[0m\u001b[0;34m\u001b[0m\u001b[0m\n\u001b[0m",
      "\u001b[0;31mFileNotFoundError\u001b[0m: [Errno 2] No such file or directory: '/Users/korat/Desktop/BEP/Programmeren/fastmri/brain/train'"
     ]
    }
   ],
   "source": [
    "# read the files on my local computer\n",
    "\n",
    "os.chdir('/Users/korat/Desktop/BEP/Programmeren/fastmri/brain/train')\n"
   ]
  },
  {
   "cell_type": "code",
   "execution_count": null,
   "metadata": {},
   "outputs": [],
   "source": []
  },
  {
   "cell_type": "code",
   "execution_count": null,
   "metadata": {},
   "outputs": [],
   "source": [
    "# fname = 'file_brain_AXFLAIR_200_6002425.h5'\n",
    "# data = h5py.File(fname, 'r')\n",
    "# data.keys()"
   ]
  },
  {
   "cell_type": "code",
   "execution_count": null,
   "metadata": {},
   "outputs": [],
   "source": []
  },
  {
   "cell_type": "code",
   "execution_count": null,
   "metadata": {},
   "outputs": [],
   "source": [
    "# Cell reads data on the hinton server \n",
    "\n",
    "fname = '/home/svangurp/scratch/fastMRI/brain/train/file_brain_AXFLAIR_200_6002425.h5'\n",
    "data = h5py.File(fname, 'r')\n",
    "data.keys()"
   ]
  },
  {
   "cell_type": "code",
   "execution_count": null,
   "metadata": {},
   "outputs": [],
   "source": [
    "kspace_complex = data['kspace'][()] # in this one i don't split the coplex values\n",
    "kspace = data['kspace'][()]\n",
    "recon_rss= data['reconstruction_rss'][()]\n",
    "print('shape k-space:',kspace.shape, '. shape reconstructed data',recon_rss.shape)"
   ]
  },
  {
   "cell_type": "code",
   "execution_count": null,
   "metadata": {},
   "outputs": [],
   "source": [
    "\n",
    "\n",
    "# This function converts np.arrays to pytorch tensors\n",
    "def to_tensor(data: np.ndarray) -> torch.Tensor:\n",
    "    \"\"\"\n",
    "    Convert numpy array to PyTorch tensor.\n",
    "\n",
    "    For complex arrays, the real and imaginary parts are stacked along the last\n",
    "    dimension.\n",
    "\n",
    "    Args:\n",
    "        data: Input numpy array.\n",
    "\n",
    "    Returns:\n",
    "        PyTorch version of data.\n",
    "    \"\"\"\n",
    "    if np.iscomplexobj(data):\n",
    "        data = np.stack((data.real, data.imag), axis=-1)\n",
    "\n",
    "    return torch.from_numpy(data)\n",
    "\n",
    "\n",
    "#this function crops the data \n",
    "def complex_center_crop(data, shape):\n",
    "    \"\"\"\n",
    "    Apply a center crop to the input image or batch of complex images.\n",
    "\n",
    "    Args:\n",
    "        data: The complex input tensor to be center cropped. It should have at\n",
    "            least 3 dimensions and the cropping is applied along dimensions -3\n",
    "            and -2 and the last dimensions should have a size of 2.\n",
    "        shape: The output shape. The shape should be smaller than the\n",
    "            corresponding dimensions of data.\n",
    "\n",
    "    Returns:\n",
    "        The center cropped image\n",
    "    \"\"\"\n",
    "    if not (0 < shape[0] <= data.shape[-3] and 0 < shape[1] <= data.shape[-2]):\n",
    "        raise ValueError(\"Invalid shapes.\")\n",
    "\n",
    "    w_from = (data.shape[-3] - shape[0]) // 2\n",
    "    h_from = (data.shape[-2] - shape[1]) // 2\n",
    "    w_to = w_from + shape[0]\n",
    "    h_to = h_from + shape[1]\n",
    "\n",
    "    return data[..., w_from:w_to, h_from:h_to, :]"
   ]
  },
  {
   "cell_type": "code",
   "execution_count": null,
   "metadata": {},
   "outputs": [],
   "source": [
    "with h5py.File(fname, \"r\") as hf:\n",
    "    kspace_tensor = to_tensor(hf[\"kspace\"][()])\n",
    "\n",
    "    crop_size = (320, 320)\n",
    "\n",
    "    # inverse Fourier Transform to get zero filled solution\n",
    "    image = fastmri.ifft2c(kspace_tensor)\n",
    "\n",
    "    # check for FLAIR 203\n",
    "    if image.shape[-2] < crop_size[1]:\n",
    "        crop_size = (image.shape[-2], image.shape[-2])\n",
    "    print(image.shape)\n",
    "    # crop input image\n",
    "    image = complex_center_crop(image, crop_size)\n",
    "\n",
    "    # absolute value\n",
    "    image = fastmri.complex_abs(image)\n",
    "\n",
    "    # apply Root-Sum-of-Squares if multicoil\n",
    "    image = fastmri.rss(image, dim=1)\n",
    "    "
   ]
  },
  {
   "cell_type": "code",
   "execution_count": null,
   "metadata": {},
   "outputs": [],
   "source": [
    "print('shape k-space (real and im part seperated):',kspace_tensor.shape)\n",
    "print('shape image',image.shape)\n"
   ]
  },
  {
   "cell_type": "code",
   "execution_count": null,
   "metadata": {},
   "outputs": [],
   "source": [
    "with h5py.File(fname, \"r\") as hf:\n",
    "    kspace = hf[\"kspace\"][()]\n",
    "    \n",
    "kspace = np.stack((kspace.real, kspace.imag), axis=-1)\n",
    "\n",
    "im_space = fastmri.ifft2c(torch.from_numpy(kspace)).detach().cpu().numpy()\n",
    "\n",
    "cropped_imspace = complex_center_crop(im_space,(320,320))\n",
    "\n",
    "\n",
    "# combine real and imag parts from last dim to transform it to complex data\n",
    "complex_abs_cropped_imspace = np.sqrt(np.sum(cropped_imspace ** 2, -1))\n",
    "print(complex_abs_cropped_imspace.shape)\n",
    "# coil combination - rss\n",
    "rss_imspace = np.sqrt(np.sum(complex_abs_cropped_imspace**2,1))\n",
    "\n",
    "# rss_imspace = image.cpu().numpy()\n",
    "_rss_imspace = np.concatenate([rss_imspace[sl] for sl in range(5)], -1)\n",
    "_recon_rss = np.concatenate([recon_rss[sl] for sl in range(5)], -1)"
   ]
  },
  {
   "cell_type": "code",
   "execution_count": null,
   "metadata": {},
   "outputs": [],
   "source": [
    "fig = plt.figure(constrained_layout=True, figsize=(20,20))\n",
    "gs = GridSpec(2, 1, figure=fig)\n",
    "\n",
    "ax1 = fig.add_subplot(gs[0, 0])\n",
    "ax1.imshow(np.abs(_rss_imspace),cmap='gray')\n",
    "ax1.set_title('rss recon of fully sampled data')\n",
    "\n",
    "ax3 = fig.add_subplot(gs[1, 0])\n",
    "ax3.imshow(np.abs(_recon_rss), cmap='gray')\n",
    "ax3.set_title('reconstruction_rss')\n",
    "\n",
    "plt.show()"
   ]
  },
  {
   "cell_type": "code",
   "execution_count": null,
   "metadata": {},
   "outputs": [],
   "source": [
    "# This function crates a mask with a fully sampled center and a random sample \n",
    "\n",
    "# the func assums that multi_coil_kspace has shape: (slices,coils,height, width)\n",
    "\n",
    "def disk_mask_func(multi_coil_kspace, disk_radius):\n",
    "    number_of_slices, number_of_coild,height, width = multi_coil_kspace.shape\n",
    "\n",
    "    disk_mask = np.multiply(np.abs(np.random.randint(0,2,(height,width))),np.abs(np.random.randint(0,2,(height,width))))\n",
    "    \n",
    "    for i in range(height):\n",
    "        for j in range(width):\n",
    "            if np.sqrt(((i-(height/2))**2)+(j-(width/2))**2) <= disk_radius:\n",
    "                disk_mask[i][j] = 1\n",
    "                \n",
    "\n",
    "    return disk_mask\n",
    "\n",
    "\n",
    "#test of the function\n",
    "\n",
    "# disk_mask = disk_mask_func(kspace_complex, disk_radius = 10)\n",
    "# print('number of nonzero elements in the mask',np.count_nonzero(disk_mask))\n",
    "# plt.imshow(disk_mask)\n",
    "# plt.show()"
   ]
  },
  {
   "cell_type": "code",
   "execution_count": null,
   "metadata": {},
   "outputs": [],
   "source": [
    "# This function crates a parallel mask with horisontal lines\n",
    "# the func assums that multi_coil_kspace has shape: (slices,coils,eight, width)\n",
    "\n",
    "def parallel_mask_func(multi_coil_kspace, number_of_lines):\n",
    "    number_of_slices, number_of_coild,height, width = multi_coil_kspace.shape\n",
    "    \n",
    "    step_size = int(height/number_of_lines)\n",
    "    parallel_mask = np.zeros((height,width))\n",
    "\n",
    "    \n",
    "    for i in range(0,height,step_size):\n",
    "        parallel_mask[i][:] = 1\n",
    "    \n",
    "    return parallel_mask\n",
    "    \n",
    "    \n",
    "# test of the parallel_mask_func\n",
    "\n",
    "# parallel_mask = parallel_mask_func(kspace_complex,number_of_lines = 100)\n",
    "# plt.imshow(parallel_mask, cmap='gray')\n",
    "# plt.show()    "
   ]
  },
  {
   "cell_type": "code",
   "execution_count": null,
   "metadata": {},
   "outputs": [],
   "source": [
    "# this function applies a mask to multicoil data, in this case the k-space and the mask have to be the same size\n",
    "# the function does not combine the coils\n",
    "\n",
    "# the func assums that multi_coil_kspace has shape: (slices,coils,eight, width)\n",
    "\n",
    "def multicoil_masking_func(multi_coil_kspace, mask):\n",
    "    \n",
    "    number_of_slices, number_of_coils, height, width = multi_coil_kspace.shape\n",
    "    masked_kspace_complex = np.zeros((multi_coil_kspace.shape), dtype = np.complex) \n",
    "    \n",
    "    for slice in range(number_of_slices):\n",
    "        for coil in range(number_of_coils):\n",
    "            masked_kspace_complex[slice,coil,:,:] = np.multiply(multi_coil_kspace[slice,coil,:,:],mask)\n",
    "    \n",
    "    return masked_kspace_complex"
   ]
  },
  {
   "cell_type": "code",
   "execution_count": null,
   "metadata": {},
   "outputs": [],
   "source": [
    "#this function crops a np array along the last two dim's \n",
    "# kspace has to be of the form: number_of_slices, number_of_coild,height, width = kspace.shape\n",
    "def center_crop_nparray(kspace, new_height, new_width):\n",
    "    number_of_slices, number_of_coild,height, width = kspace.shape\n",
    "\n",
    "\n",
    "    croped = kspace[:,:,int(height/2-new_height/2):int(height/2+new_height/2),int(width/2-new_width/2):int(width/2+new_width/2)]\n",
    "    \n",
    "    return croped\n",
    "\n",
    "\n",
    "# test \n",
    "croped = center_crop_nparray(kspace_complex, new_height = 320, new_width = 320)   \n",
    "croped.shape\n",
    "plt.imshow(np.abs(croped[0,0,:,:]), cmap ='gray')\n",
    "plt.show()"
   ]
  },
  {
   "cell_type": "code",
   "execution_count": null,
   "metadata": {},
   "outputs": [],
   "source": [
    "\n",
    "    \n",
    "    \n",
    "    \n"
   ]
  },
  {
   "cell_type": "code",
   "execution_count": null,
   "metadata": {},
   "outputs": [],
   "source": [
    "# Creating a disk_mask \n",
    "disk_mask = disk_mask_func(kspace_complex, disk_radius = 10)\n",
    "#plotting\n",
    "plt.imshow((disk_mask), cmap ='gray')\n",
    "plt.title('Disk mask')\n",
    "plt.show()\n",
    "\n",
    "\n",
    "# applying the mask to the multi coil data\n",
    "masked_multicoil_kspace = multicoil_masking_func(kspace_complex,disk_mask)\n",
    "#plotting\n",
    "plt.subplot(1,2,1)\n",
    "plt.imshow((np.abs(masked_multicoil_kspace[0,0,:,:])), cmap ='gray')\n",
    "plt.subplot(1,2,2)\n",
    "plt.imshow(np.abs(np.fft.fftshift(np.fft.ifft2(masked_multicoil_kspace[0,0,:,:]))), cmap ='gray')\n",
    "plt.title('masked_multicoil_kspace (fist slice, first coil)')\n",
    "plt.show()\n",
    "\n",
    "# go to image space\n",
    "masked_multicoil_image = np.fft.fftshift(np.fft.ifft2(masked_multicoil_kspace))\n",
    "\n",
    "# center crop\n",
    "masked_multicoil_cropped_image = center_crop_nparray(masked_multicoil_image, new_height = 320, new_width = 320)\n",
    "\n",
    "# calculate the acceleration factor\n",
    "original_nonzero = np.count_nonzero(kspace_complex)\n",
    "print(original_nonzero)\n",
    "masked_nonzero = np.count_nonzero(masked_multicoil_kspace)\n",
    "print(masked_nonzero)\n",
    "acceleration_factor = original_nonzero/masked_nonzero\n",
    "\n",
    "# coil combination rss\n",
    "masked_rss_croped_image = np.sqrt(np.sum(masked_multicoil_cropped_image**2,1))\n",
    "#plotting\n",
    "plt.imshow(abs(masked_rss_croped_image[0,:,:]),cmap = 'gray')\n",
    "plt.title(f'Disk masked, acceleration factor = {round(acceleration_factor,2)}' )\n",
    "plt.show()\n",
    "\n"
   ]
  },
  {
   "cell_type": "code",
   "execution_count": null,
   "metadata": {
    "scrolled": false
   },
   "outputs": [],
   "source": [
    "# Here I will try to implement CS recon\n",
    "img = abs(masked_multicoil_image[0,:,:])\n",
    "\n",
    "# coil combination rss in kspace\n",
    "kspace = masked_multicoil_kspace\n",
    "masked_rss_kspace = np.sqrt(np.sum(kspace**2,1))\n",
    "print(masked_rss_kspace.shape)\n",
    "n = 2\n",
    "\n",
    "# Wavelet decoposition \n",
    "coeffs = pywt.wavedec2(img, wavelet = 'db1', level = n)\n",
    "\n",
    "\n",
    "arr, coeff_slices = pywt.coeffs_to_array(coeffs,1)\n",
    "\n",
    "plt.imshow(arr,  cmap = 'gray')\n",
    "plt.show()\n",
    "\n",
    "coeffs2 = pywt.waverec2(coeffs, wavelet = 'db1')\n",
    "arr2, coeff_slices2 = pywt.coeffs_to_array(coeffs)\n",
    "\n",
    "plt.imshow(coeffs2)\n",
    "plt.show()"
   ]
  },
  {
   "cell_type": "code",
   "execution_count": null,
   "metadata": {
    "scrolled": false
   },
   "outputs": [],
   "source": [
    "# Creating a parallel_mask \n",
    "parallel_mask = parallel_mask_func(kspace_complex, number_of_lines = 150)\n",
    "#plotting\n",
    "plt.imshow((parallel_mask), cmap ='gray')\n",
    "plt.title('Parallel mask')\n",
    "plt.show()\n",
    "\n",
    "\n",
    "# applying the mask to the multi coil data\n",
    "masked_multicoil_kspace = multicoil_masking_func(kspace_complex,parallel_mask)\n",
    "#plotting\n",
    "plt.subplot(1,2,1)\n",
    "plt.imshow((np.abs(masked_multicoil_kspace[0,0,:,:])), cmap ='gray')\n",
    "plt.subplot(1,2,2)\n",
    "plt.imshow(np.abs(np.fft.fftshift(np.fft.ifft2(masked_multicoil_kspace[0,0,:,:]))), cmap ='gray')\n",
    "plt.title('masked_multicoil_kspace (fist slice, first coil)')\n",
    "plt.show()\n",
    "\n",
    "# go to image space\n",
    "masked_multicoil_image = np.fft.fftshift(np.fft.ifft2(masked_multicoil_kspace))\n",
    "\n",
    "# center crop\n",
    "masked_multicoil_cropped_image = center_crop_nparray(masked_multicoil_image, new_height = 320, new_width = 320)\n",
    "\n",
    "# calculate the acceleration factor\n",
    "original_nonzero = np.count_nonzero(kspace_complex)\n",
    "masked_nonzero = np.count_nonzero(masked_multicoil_kspace)\n",
    "\n",
    "acceleration_factor = original_nonzero/masked_nonzero\n",
    "\n",
    "# coil combination rss\n",
    "masked_rss_croped_image = np.sqrt(np.sum(masked_multicoil_cropped_image**2,1))\n",
    "#plotting\n",
    "plt.imshow(abs(masked_rss_croped_image[0,:,:]),cmap = 'gray')\n",
    "plt.title(f'Paralell masked, acceleration factor = {round(acceleration_factor,2)}' )\n",
    "plt.show()"
   ]
  },
  {
   "cell_type": "code",
   "execution_count": null,
   "metadata": {},
   "outputs": [],
   "source": [
    "\n",
    "\n",
    "\n",
    "# masked_multicoil_kspace\n",
    "\n",
    "# number_of_slices, number_of_coild,height, width = masked_multicoil_kspace.shape\n",
    "# print(np.abs(masked_multicoil_kspace[0,0,0,:]))\n",
    "# multislice_kspace[0,0,:,:].shape\n",
    "# anti_aliased_kspace = np.zeros((heigth,width))\n",
    "\n",
    "# count = 0\n",
    "# for n in range(height):\n",
    "    \n",
    "    \n",
    "#     if np.sum(np.abs(multislice_kspace[0,0,n,:])) == 0: #and n-1 >= 0 and n+1 <= heigth-1:\n",
    "        \n",
    "# #         for m in range(width):\n",
    "            \n",
    "#             #anti_aliased_kspace[n,m] = (multislice_kspace[0,0,n+1,m] + multislice_kspace[0,0,n-1,m])/2\n",
    "            \n",
    "            \n",
    "# print(count)\n",
    "# anti_aliased  = np.fft.fftshift(np.fft.ifft2(anti_aliased_kspace))\n",
    "# aliased = np.fft.fftshift(np.fft.ifft2(multislice_kspace[0,0,:,:]))\n",
    "# print(anti_aliased.shape)\n",
    "# plt.imshow(np.abs(anti_aliased))\n",
    "# plt.show()\n",
    "\n",
    "# plt.imshow(np.abs(aliased))\n",
    "# plt.show()"
   ]
  },
  {
   "cell_type": "code",
   "execution_count": null,
   "metadata": {
    "scrolled": false
   },
   "outputs": [],
   "source": [
    "# function creates a Gausian mask\n",
    "# the func assums that multicoil_ksapce has shape: (slices,coils,eight, width)\n",
    "# sigma is the standard diviation of the gaussian \n",
    "\n",
    "# def gauss_mask_func(multicoil_ksapce, sigma, acceleration):\n",
    "    \n",
    "#     number_of_slices, number_of_coils, height, width = multicoil_ksapce.shape\n",
    "    \n",
    "#     gauss_mask = np.ones((height,width))\n",
    "#     current_acceleration = 1\n",
    "#     number_elements = height*width # total number of elements in the mask\n",
    "#     count_zero = 0 # this variable counts the number of non-zero elemnets in the mask\n",
    "#     fout_count  = 0\n",
    "    \n",
    "#     while current_acceleration <= acceleration:\n",
    "        \n",
    "#         x = int(np.random.normal(loc= round(width/2), scale= sigma, size=None))\n",
    "#         y = int(np.random.normal(loc= round(height/2), scale= sigma, size=None))\n",
    "    \n",
    "#         if x > 0 and x < width and y > 0 and y < height:\n",
    "            \n",
    "#             if gauss_mask[y,x] == 1:\n",
    "#                 gauss_mask[y,x] = 0\n",
    "#                 count_zero += 1\n",
    "#             else:\n",
    "#                 fout_count +=1\n",
    "#                 print(fout_count)\n",
    "\n",
    "#         current_acceleration = number_elements/(number_elements-count_zero)\n",
    "#         print(current_acceleration)\n",
    "#     return gauss_mask\n",
    "    \n",
    "    \n",
    "    \n",
    "# gauss_mask = gauss_mask_func(kspace_complex, sigma = 0.1, acceleration = 4)     \n",
    "\n",
    "\n",
    "# plt.imshow(gauss_mask)\n",
    "# plt.show()"
   ]
  },
  {
   "cell_type": "code",
   "execution_count": null,
   "metadata": {},
   "outputs": [],
   "source": []
  },
  {
   "cell_type": "code",
   "execution_count": null,
   "metadata": {},
   "outputs": [],
   "source": []
  },
  {
   "cell_type": "code",
   "execution_count": null,
   "metadata": {},
   "outputs": [],
   "source": []
  }
 ],
 "metadata": {
  "kernelspec": {
   "display_name": "Python 3",
   "language": "python",
   "name": "python3"
  },
  "language_info": {
   "codemirror_mode": {
    "name": "ipython",
    "version": 3
   },
   "file_extension": ".py",
   "mimetype": "text/x-python",
   "name": "python",
   "nbconvert_exporter": "python",
   "pygments_lexer": "ipython3",
   "version": "3.8.8"
  }
 },
 "nbformat": 4,
 "nbformat_minor": 1
}
