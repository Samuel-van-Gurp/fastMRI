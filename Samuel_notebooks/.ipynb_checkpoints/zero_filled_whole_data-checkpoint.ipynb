{
 "cells": [
  {
   "cell_type": "code",
   "execution_count": null,
   "metadata": {
    "collapsed": true
   },
   "outputs": [],
   "source": [
    "import os\n",
    "import sys\n",
    "import h5py\n",
    "from tqdm import tqdm \n",
    "import numpy as np\n",
    "import torch\n",
    "# import BART\n",
    "os.environ['TOOLBOX_PATH'] = \"/home/svangurp/scratch/samuel/bart-0.6.00/\"\n",
    "sys.path.append('/home/svangurp/scratch/samuel/bart-0.6.00/python/')\n",
    "import bart\n",
    "import fastmri.data.transforms as T\n",
    "from fastmri.data.subsample import create_mask_for_mask_type\n",
    "from fastmri import tensor_to_complex_np\n",
    "import matplotlib.pyplot as plt\n",
    "from skimage.metrics import peak_signal_noise_ratio, structural_similarity"
   ]
  },
  {
   "cell_type": "code",
   "execution_count": null,
   "metadata": {},
   "outputs": [],
   "source": [
    "def save_zero_filled(data_dir, out_dir, which_challenge):\n",
    "    reconstructions = {}\n",
    "\n",
    "    for fname in tqdm(list(data_dir.glob(\"*.h5\"))):\n",
    "        with h5py.File(fname, \"r\") as hf:\n",
    "            et_root = etree.fromstring(hf[\"ismrmrd_header\"][()])\n",
    "            masked_kspace = transforms.to_tensor(hf[\"kspace\"][()])\n",
    "\n",
    "            # extract target image width, height from ismrmrd header\n",
    "            enc = [\"encoding\", \"encodedSpace\", \"matrixSize\"]\n",
    "            crop_size = (\n",
    "                int(et_query(et_root, enc + [\"x\"])),\n",
    "                int(et_query(et_root, enc + [\"y\"])),\n",
    "            )\n",
    "\n",
    "            # inverse Fourier Transform to get zero filled solution\n",
    "            image = fastmri.ifft2c(masked_kspace)\n",
    "\n",
    "            # check for FLAIR 203\n",
    "            if image.shape[-2] < crop_size[1]:\n",
    "                crop_size = (image.shape[-2], image.shape[-2])\n",
    "\n",
    "            # crop input image\n",
    "            image = transforms.complex_center_crop(image, crop_size)\n",
    "\n",
    "            # absolute value\n",
    "            image = fastmri.complex_abs(image)\n",
    "\n",
    "            # apply Root-Sum-of-Squares if multicoil data\n",
    "            if which_challenge == \"multicoil\":\n",
    "                image = fastmri.rss(image, dim=1)\n",
    "\n",
    "            reconstructions[fname.name] = image\n",
    "\n",
    "    fastmri.save_reconstructions(reconstructions, out_dir)\n",
    "\n"
   ]
  },
  {
   "cell_type": "code",
   "execution_count": null,
   "metadata": {},
   "outputs": [],
   "source": []
  },
  {
   "cell_type": "code",
   "execution_count": null,
   "metadata": {},
   "outputs": [],
   "source": [
    "fname = '/scratch/svangurp/samuel/data/knee/train/file1000002.h5'\n",
    "data = h5py.File(fname, 'r')\n",
    "kspace = data[\"kspace\"][()]"
   ]
  },
  {
   "cell_type": "code",
   "execution_count": null,
   "metadata": {},
   "outputs": [],
   "source": []
  },
  {
   "cell_type": "code",
   "execution_count": null,
   "metadata": {},
   "outputs": [],
   "source": []
  },
  {
   "cell_type": "code",
   "execution_count": null,
   "metadata": {},
   "outputs": [],
   "source": []
  },
  {
   "cell_type": "code",
   "execution_count": null,
   "metadata": {},
   "outputs": [],
   "source": []
  },
  {
   "cell_type": "code",
   "execution_count": null,
   "metadata": {},
   "outputs": [],
   "source": []
  },
  {
   "cell_type": "code",
   "execution_count": null,
   "metadata": {},
   "outputs": [],
   "source": []
  },
  {
   "cell_type": "code",
   "execution_count": null,
   "metadata": {},
   "outputs": [],
   "source": []
  },
  {
   "cell_type": "code",
   "execution_count": null,
   "metadata": {},
   "outputs": [],
   "source": []
  },
  {
   "cell_type": "code",
   "execution_count": null,
   "metadata": {},
   "outputs": [],
   "source": []
  }
 ],
 "metadata": {
  "kernelspec": {
   "display_name": "Python 3",
   "language": "python",
   "name": "python3"
  },
  "language_info": {
   "codemirror_mode": {
    "name": "ipython",
    "version": 3
   },
   "file_extension": ".py",
   "mimetype": "text/x-python",
   "name": "python",
   "nbconvert_exporter": "python",
   "pygments_lexer": "ipython3",
   "version": "3.8.8"
  }
 },
 "nbformat": 4,
 "nbformat_minor": 1
}
