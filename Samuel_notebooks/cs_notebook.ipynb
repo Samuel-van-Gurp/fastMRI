{
 "cells": [
  {
   "cell_type": "code",
   "execution_count": null,
   "metadata": {},
   "outputs": [],
   "source": [
    "import os\n",
    "import sys\n",
    "import h5py\n",
    "import numpy as np\n",
    "import torch\n",
    "# import BART\n",
    "os.environ['TOOLBOX_PATH'] = \"/home/svangurp/scratch/samuel/bart-0.6.00/\"\n",
    "sys.path.append('/home/svangurp/scratch/samuel/bart-0.6.00/python/')\n",
    "import bart\n",
    "import fastmri.data.transforms as T\n",
    "from fastmri.data.subsample import create_mask_for_mask_type\n",
    "from fastmri import tensor_to_complex_np\n",
    "import matplotlib.pyplot as plt"
   ]
  },
  {
   "cell_type": "code",
   "execution_count": null,
   "metadata": {},
   "outputs": [],
   "source": [
    "# read the files on my local computer\n",
    "\n",
    "# os.chdir('/Users/korat/Desktop/BEP/Programmeren/fastmri/brain/train')\n",
    "\n",
    "# fname = 'file_brain_AXFLAIR_200_6002425.h5'\n",
    "# data = h5py.File(fname, 'r')\n",
    "# data.keys()"
   ]
  },
  {
   "cell_type": "code",
   "execution_count": null,
   "metadata": {},
   "outputs": [],
   "source": [
    "# Cell reads data on the hinton server \n",
    "# reading knee data\n",
    "# fname = '/home/svangurp/scratch/samuel/data/knee/train/file1000001.h5'\n",
    "# data = h5py.File(fname, 'r')\n",
    "# data.keys()\n"
   ]
  },
  {
   "cell_type": "code",
   "execution_count": null,
   "metadata": {},
   "outputs": [],
   "source": [
    "# kspace_complex = data['kspace'][()] # in this one i don't split the coplex values\n",
    "# kspace = data['kspace'][()]\n",
    "# recon_rss= data['reconstruction_rss'][()]\n",
    "# print('shape k-space:',kspace.shape, '. shape reconstructed data',recon_rss.shape)"
   ]
  },
  {
   "cell_type": "code",
   "execution_count": null,
   "metadata": {},
   "outputs": [],
   "source": [
    "def tensor_to_array(tensor):\n",
    "    #  takes 2d tensor\n",
    "    height, width = tensor.shape\n",
    "    array = np.zeros((height, width))\n",
    "    \n",
    "    for i in range(0,height-1):\n",
    "        for j in range(0,width-1):\n",
    "            print(\"hallo\")\n",
    "            print(height, width)\n",
    "            array[height,width] = tensor[height,width]\n",
    "            \n",
    "    return array\n"
   ]
  },
  {
   "cell_type": "code",
   "execution_count": null,
   "metadata": {},
   "outputs": [],
   "source": [
    "\n",
    "# open file\n",
    "fname = '/scratch/svangurp/samuel/data/knee/train/file1000001.h5'\n",
    "# read h5 file\n",
    "data = h5py.File(fname, 'r')\n",
    "# extract the multi coil k-space data\n",
    "kspace = data[\"kspace\"][()]\n",
    "# selecting a single slice to work on\n",
    "slice = 10\n",
    "\n",
    "target = np.fft.fftshift(np.fft.ifft2(np.fft.ifftshift(kspace[slice], axes=(-2, -1)), axes=(-2, -1)), axes=(-2, -1))\n",
    "\n",
    "# RSS combination\n",
    "target = np.sqrt(np.sum(T.center_crop(target, (320, 320)) ** 2, 0))\n",
    "\n",
    "crop_size = (320, 320)\n",
    "\n",
    "# applying a random mask\n",
    "mask_func = create_mask_for_mask_type(mask_type_str=\"random\", center_fractions=[0.08], accelerations=[4])\n",
    "\n",
    "# transforming one slice of the multi coil k-space data\n",
    "_kspace = T.to_tensor(kspace)[slice]\n",
    "# applying the mask to the one slice of the multi coil k-space data\n",
    "masked_kspace, mask = T.apply_mask(_kspace, mask_func)\n",
    "\n",
    "# splitting the values \n",
    "linear_recon = masked_kspace[..., 0] + 1j * masked_kspace[..., 1]\n",
    "# going to image space\n",
    "linear_recon = np.fft.fftshift(np.fft.ifft2(np.fft.ifftshift(linear_recon, axes=(-2, -1)), axes=(-2, -1)),\n",
    "\n",
    "                               axes=(-2, -1))\n",
    "# RSS coil combination \n",
    "linear_recon = np.sqrt(np.sum(T.center_crop(linear_recon, (320, 320)) ** 2, 0))\n",
    "\n",
    "# like fftshift \n",
    "masked_kspace = masked_kspace.permute(1, 2, 0, 3).unsqueeze(0)\n",
    "\n",
    "\n",
    "masked_kspace = tensor_to_complex_np(masked_kspace)\n",
    "# estemating the sens maps\n",
    "sens_maps = bart.bart(1, \"ecalib -d0 -m1\", masked_kspace)\n",
    "\n",
    "# parameters for the reconstruction\n",
    "reg_wt = 0.01\n",
    "num_iters = 200\n",
    "\n",
    "pred = bart.bart(1, f\"pics -d0 -S -R T:7:0:{reg_wt} -i {num_iters}\", masked_kspace, sens_maps)\n",
    "\n",
    "pred = torch.from_numpy(np.abs(pred[0]))\n",
    "\n",
    "# check for FLAIR 203\n",
    "\n",
    "if pred.shape[1] < crop_size[1]:\n",
    "\n",
    "    crop_size = (pred.shape[1], pred.shape[1])\n",
    "\n",
    "pred = T.center_crop(pred, crop_size)\n",
    "\n",
    "print('Done')"
   ]
  },
  {
   "cell_type": "code",
   "execution_count": null,
   "outputs": [],
   "source": [
    "\n",
    "# plotting\n",
    "plt.figure(figsize=(20,18), dpi = 80)\n",
    "plt.subplot(1, 3, 1)\n",
    "\n",
    "plt.imshow(np.abs(target), cmap='gray')\n",
    "\n",
    "plt.title('Fully-sampled')\n",
    "\n",
    "plt.subplot(1, 3, 2)\n",
    "\n",
    "plt.imshow(np.abs(linear_recon), cmap='gray')\n",
    "\n",
    "plt.title('4x')\n",
    "\n",
    "plt.subplot(1, 3, 3)\n",
    "\n",
    "plt.imshow(np.abs(pred), cmap='gray')\n",
    "\n",
    "plt.title('PICS')\n",
    "\n",
    "plt.show()\n"
   ],
   "metadata": {
    "collapsed": false,
    "pycharm": {
     "name": "#%%\n"
    }
   }
  },
  {
   "cell_type": "code",
   "execution_count": null,
   "outputs": [],
   "source": [
    "diff_4x = np.sqrt(np.subtract(target,linear_recon)**2)\n",
    "rms_err_4x = abs(sum(sum(diff_4x)))\n",
    "print(rms_err_4x)\n",
    "\n",
    "diff_pics = np.sqrt(np.subtract(target,pred)**2)\n",
    "rms_err_pics = abs(sum(sum(diff_pics)))\n",
    "print(rms_err_pics)"
   ],
   "metadata": {
    "collapsed": false,
    "pycharm": {
     "name": "#%%\n"
    }
   }
  },
  {
   "cell_type": "code",
   "execution_count": 49,
   "outputs": [
    {
     "name": "stdout",
     "output_type": "stream",
     "text": [
      "hallo\n",
      "320 320\n"
     ]
    },
    {
     "ename": "IndexError",
     "evalue": "index 320 is out of bounds for axis 0 with size 320",
     "output_type": "error",
     "traceback": [
      "\u001B[0;31m---------------------------------------------------------------------------\u001B[0m",
      "\u001B[0;31mIndexError\u001B[0m                                Traceback (most recent call last)",
      "\u001B[0;32m<ipython-input-49-ddccb3dd095a>\u001B[0m in \u001B[0;36m<module>\u001B[0;34m\u001B[0m\n\u001B[0;32m----> 1\u001B[0;31m \u001B[0mtarget_array\u001B[0m \u001B[0;34m=\u001B[0m \u001B[0mtensor_to_array\u001B[0m\u001B[0;34m(\u001B[0m\u001B[0mtarget\u001B[0m\u001B[0;34m)\u001B[0m\u001B[0;34m\u001B[0m\u001B[0;34m\u001B[0m\u001B[0m\n\u001B[0m\u001B[1;32m      2\u001B[0m \u001B[0mprint\u001B[0m\u001B[0;34m(\u001B[0m\u001B[0mtarget_array\u001B[0m\u001B[0;34m.\u001B[0m\u001B[0mdtype\u001B[0m\u001B[0;34m)\u001B[0m\u001B[0;34m\u001B[0m\u001B[0;34m\u001B[0m\u001B[0m\n\u001B[1;32m      3\u001B[0m \u001B[0;34m\u001B[0m\u001B[0m\n",
      "\u001B[0;32m<ipython-input-44-2876f8345bd1>\u001B[0m in \u001B[0;36mtensor_to_array\u001B[0;34m(tensor)\u001B[0m\n\u001B[1;32m      8\u001B[0m             \u001B[0mprint\u001B[0m\u001B[0;34m(\u001B[0m\u001B[0;34m\"hallo\"\u001B[0m\u001B[0;34m)\u001B[0m\u001B[0;34m\u001B[0m\u001B[0;34m\u001B[0m\u001B[0m\n\u001B[1;32m      9\u001B[0m             \u001B[0mprint\u001B[0m\u001B[0;34m(\u001B[0m\u001B[0mheight\u001B[0m\u001B[0;34m,\u001B[0m \u001B[0mwidth\u001B[0m\u001B[0;34m)\u001B[0m\u001B[0;34m\u001B[0m\u001B[0;34m\u001B[0m\u001B[0m\n\u001B[0;32m---> 10\u001B[0;31m             \u001B[0marray\u001B[0m\u001B[0;34m[\u001B[0m\u001B[0mheight\u001B[0m\u001B[0;34m,\u001B[0m\u001B[0mwidth\u001B[0m\u001B[0;34m]\u001B[0m \u001B[0;34m=\u001B[0m \u001B[0mtensor\u001B[0m\u001B[0;34m[\u001B[0m\u001B[0mheight\u001B[0m\u001B[0;34m,\u001B[0m\u001B[0mwidth\u001B[0m\u001B[0;34m]\u001B[0m\u001B[0;34m\u001B[0m\u001B[0;34m\u001B[0m\u001B[0m\n\u001B[0m\u001B[1;32m     11\u001B[0m \u001B[0;34m\u001B[0m\u001B[0m\n\u001B[1;32m     12\u001B[0m     \u001B[0;32mreturn\u001B[0m \u001B[0marray\u001B[0m\u001B[0;34m\u001B[0m\u001B[0;34m\u001B[0m\u001B[0m\n",
      "\u001B[0;31mIndexError\u001B[0m: index 320 is out of bounds for axis 0 with size 320"
     ]
    }
   ],
   "source": [
    "target_array = tensor_to_array(target)\n",
    "print(target_array.dtype)"
   ],
   "metadata": {
    "collapsed": false,
    "pycharm": {
     "name": "#%%\n"
    }
   }
  },
  {
   "cell_type": "code",
   "execution_count": null,
   "outputs": [],
   "source": [],
   "metadata": {
    "collapsed": false,
    "pycharm": {
     "name": "#%%\n"
    }
   }
  },
  {
   "cell_type": "code",
   "execution_count": null,
   "metadata": {},
   "outputs": [],
   "source": []
  },
  {
   "cell_type": "code",
   "execution_count": null,
   "metadata": {},
   "outputs": [],
   "source": [
    "diff_4x = np.sqrt(np.subtract(target,linear_recon)**2)\n",
    "rms_err_4x = abs(sum(sum(diff_4x)))\n",
    "print(rms_err_4x)\n",
    "\n",
    "diff_pics = np.sqrt(np.subtract(target,pred)**2)\n",
    "rms_err_pics = abs(sum(sum(diff_pics)))\n",
    "print(rms_err_pics)"
   ]
  },
  {
   "cell_type": "code",
   "execution_count": 39,
   "metadata": {},
   "outputs": [
    {
     "name": "stdout",
     "output_type": "stream",
     "text": [
      "hallo\n",
      "320 320\n"
     ]
    },
    {
     "ename": "IndexError",
     "evalue": "index 320 is out of bounds for axis 0 with size 320",
     "output_type": "error",
     "traceback": [
      "\u001B[0;31m---------------------------------------------------------------------------\u001B[0m",
      "\u001B[0;31mIndexError\u001B[0m                                Traceback (most recent call last)",
      "\u001B[0;32m<ipython-input-39-ce34325e04e6>\u001B[0m in \u001B[0;36m<module>\u001B[0;34m\u001B[0m\n\u001B[0;32m----> 1\u001B[0;31m \u001B[0mtarget_array\u001B[0m \u001B[0;34m=\u001B[0m \u001B[0mtensor_to_array\u001B[0m\u001B[0;34m(\u001B[0m\u001B[0mtarget\u001B[0m\u001B[0;34m)\u001B[0m\u001B[0;34m\u001B[0m\u001B[0;34m\u001B[0m\u001B[0m\n\u001B[0m\u001B[1;32m      2\u001B[0m \u001B[0mprint\u001B[0m\u001B[0;34m(\u001B[0m\u001B[0mtarget_array\u001B[0m\u001B[0;34m.\u001B[0m\u001B[0mdtype\u001B[0m\u001B[0;34m)\u001B[0m\u001B[0;34m\u001B[0m\u001B[0;34m\u001B[0m\u001B[0m\n",
      "\u001B[0;32m<ipython-input-38-c702ab9c5dda>\u001B[0m in \u001B[0;36mtensor_to_array\u001B[0;34m(tensor)\u001B[0m\n\u001B[1;32m      8\u001B[0m             \u001B[0mprint\u001B[0m\u001B[0;34m(\u001B[0m\u001B[0;34m\"hallo\"\u001B[0m\u001B[0;34m)\u001B[0m\u001B[0;34m\u001B[0m\u001B[0;34m\u001B[0m\u001B[0m\n\u001B[1;32m      9\u001B[0m             \u001B[0mprint\u001B[0m\u001B[0;34m(\u001B[0m\u001B[0mheight\u001B[0m\u001B[0;34m,\u001B[0m \u001B[0mwidth\u001B[0m\u001B[0;34m)\u001B[0m\u001B[0;34m\u001B[0m\u001B[0;34m\u001B[0m\u001B[0m\n\u001B[0;32m---> 10\u001B[0;31m             \u001B[0marray\u001B[0m\u001B[0;34m[\u001B[0m\u001B[0mheight\u001B[0m\u001B[0;34m,\u001B[0m\u001B[0mwidth\u001B[0m\u001B[0;34m]\u001B[0m \u001B[0;34m=\u001B[0m \u001B[0mtensor\u001B[0m\u001B[0;34m[\u001B[0m\u001B[0mheight\u001B[0m\u001B[0;34m,\u001B[0m\u001B[0mwidth\u001B[0m\u001B[0;34m]\u001B[0m\u001B[0;34m\u001B[0m\u001B[0;34m\u001B[0m\u001B[0m\n\u001B[0m\u001B[1;32m     11\u001B[0m \u001B[0;34m\u001B[0m\u001B[0m\n\u001B[1;32m     12\u001B[0m     \u001B[0;32mreturn\u001B[0m \u001B[0marray\u001B[0m\u001B[0;34m\u001B[0m\u001B[0;34m\u001B[0m\u001B[0m\n",
      "\u001B[0;31mIndexError\u001B[0m: index 320 is out of bounds for axis 0 with size 320"
     ]
    }
   ],
   "source": [
    "target_array = tensor_to_array(target)\n",
    "print(target_array.dtype)"
   ]
  },
  {
   "cell_type": "code",
   "execution_count": null,
   "metadata": {},
   "outputs": [],
   "source": []
  },
  {
   "cell_type": "code",
   "execution_count": null,
   "metadata": {},
   "outputs": [],
   "source": []
  },
  {
   "cell_type": "code",
   "execution_count": null,
   "metadata": {},
   "outputs": [],
   "source": []
  }
 ],
 "metadata": {
  "kernelspec": {
   "display_name": "Python 3",
   "language": "python",
   "name": "python3"
  },
  "language_info": {
   "codemirror_mode": {
    "name": "ipython",
    "version": 3
   },
   "file_extension": ".py",
   "mimetype": "text/x-python",
   "name": "python",
   "nbconvert_exporter": "python",
   "pygments_lexer": "ipython3",
   "version": "3.8.8"
  }
 },
 "nbformat": 4,
 "nbformat_minor": 1
}