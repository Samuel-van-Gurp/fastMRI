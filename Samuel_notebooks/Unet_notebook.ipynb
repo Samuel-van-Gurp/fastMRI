{
 "cells": [
  {
   "cell_type": "code",
   "execution_count": 3,
   "id": "6bb97401",
   "metadata": {},
   "outputs": [],
   "source": [
    "import argparse\n",
    "import time\n",
    "from collections import defaultdict\n",
    "from pathlib import Path\n",
    "import h5py\n",
    "import fastmri\n",
    "import fastmri.data.transforms as T\n",
    "import numpy as np\n",
    "import requests\n",
    "import torch\n",
    "from fastmri.data import SliceDataset\n",
    "from fastmri.models import Unet\n",
    "from tqdm import tqdm\n"
   ]
  },
  {
   "cell_type": "code",
   "execution_count": 8,
   "id": "6a3e0cfd",
   "metadata": {},
   "outputs": [],
   "source": [
    "# loading  multi coil knee file \n",
    "\n",
    "fname = '/scratch/svangurp/samuel/data/knee/train/file1000002.h5'\n",
    "data = h5py.File(fname, 'r')\n",
    "kspace = data[\"kspace\"][()]\n"
   ]
  },
  {
   "cell_type": "code",
   "execution_count": 1,
   "id": "0d6fd2ad",
   "metadata": {},
   "outputs": [],
   "source": [
    "def run_unet_model(batch, model, device):\n",
    "    image, _, mean, std, fname, slice_num, _ = batch\n",
    "\n",
    "    output = model(image.to(device).unsqueeze(1)).squeeze(1).cpu()\n",
    "\n",
    "    mean = mean.unsqueeze(1).unsqueeze(2)\n",
    "    std = std.unsqueeze(1).unsqueeze(2)\n",
    "    output = (output * std + mean).cpu()\n",
    "\n",
    "    return output, int(slice_num[0]), fname[0]\n"
   ]
  },
  {
   "cell_type": "code",
   "execution_count": null,
   "id": "35ade13d",
   "metadata": {},
   "outputs": [],
   "source": []
  },
  {
   "cell_type": "code",
   "execution_count": null,
   "id": "d5129ad9",
   "metadata": {},
   "outputs": [],
   "source": []
  },
  {
   "cell_type": "code",
   "execution_count": null,
   "id": "63a41ad1",
   "metadata": {},
   "outputs": [],
   "source": []
  },
  {
   "cell_type": "code",
   "execution_count": null,
   "id": "04aa0b7f",
   "metadata": {},
   "outputs": [],
   "source": []
  }
 ],
 "metadata": {
  "kernelspec": {
   "display_name": "Python 3",
   "language": "python",
   "name": "python3"
  },
  "language_info": {
   "codemirror_mode": {
    "name": "ipython",
    "version": 3
   },
   "file_extension": ".py",
   "mimetype": "text/x-python",
   "name": "python",
   "nbconvert_exporter": "python",
   "pygments_lexer": "ipython3",
   "version": "3.8.8"
  }
 },
 "nbformat": 4,
 "nbformat_minor": 5
}