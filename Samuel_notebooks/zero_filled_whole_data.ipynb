{
 "cells": [
  {
   "cell_type": "code",
   "execution_count": 11,
   "metadata": {},
   "outputs": [],
   "source": [
    "\n",
    "import xml.etree.ElementTree as etree\n",
    "from argparse import ArgumentParser\n",
    "from pathlib import Path\n",
    "\n",
    "import fastmri\n",
    "import h5py\n",
    "from fastmri.data import transforms\n",
    "from fastmri.data.mri_data import et_query\n",
    "from tqdm import tqdm"
   ]
  },
  {
   "cell_type": "code",
   "execution_count": null,
   "metadata": {},
   "outputs": [],
   "source": []
  },
  {
   "cell_type": "code",
   "execution_count": 16,
   "metadata": {},
   "outputs": [],
   "source": [
    "def save_zero_filled(data_dir, out_dir, which_challenge):\n",
    "    reconstructions = {}\n",
    "\n",
    "    for fname in tqdm(list(data_dir.glob(\"*.h5\"))):\n",
    "        with h5py.File(fname, \"r\") as hf:\n",
    "            \n",
    "            et_root = etree.fromstring(hf[\"ismrmrd_header\"][()])\n",
    "            masked_kspace = transforms.to_tensor(hf[\"kspace\"][()])\n",
    "\n",
    "            # extract target image width, height from ismrmrd header\n",
    "            enc = [\"encoding\", \"encodedSpace\", \"matrixSize\"]\n",
    "            crop_size = (\n",
    "                int(et_query(et_root, enc + [\"x\"])),\n",
    "                int(et_query(et_root, enc + [\"y\"])),\n",
    "            )\n",
    "\n",
    "            # inverse Fourier Transform to get zero filled solution\n",
    "            image = fastmri.ifft2c(masked_kspace)\n",
    "\n",
    "            # check for FLAIR 203\n",
    "            if image.shape[-2] < crop_size[1]:\n",
    "                crop_size = (image.shape[-2], image.shape[-2])\n",
    "\n",
    "            # crop input image\n",
    "            image = transforms.complex_center_crop(image, crop_size)\n",
    "\n",
    "            # absolute value\n",
    "            image = fastmri.complex_abs(image)\n",
    "\n",
    "            # apply Root-Sum-of-Squares if multicoil data\n",
    "            if which_challenge == \"multicoil\":\n",
    "                image = fastmri.rss(image, dim=1)\n",
    "            \n",
    "            plt.imshow(image)\n",
    "            plt.show()\n",
    "            return image\n",
    "            reconstructions[fname.name] = image\n",
    "\n",
    "#     fastmri.save_reconstructions(reconstructions, out_dir)\n",
    "\n",
    "    "
   ]
  },
  {
   "cell_type": "code",
   "execution_count": 19,
   "metadata": {},
   "outputs": [
    {
     "ename": "AttributeError",
     "evalue": "'str' object has no attribute 'glob'",
     "output_type": "error",
     "traceback": [
      "\u001B[0;31m---------------------------------------------------------------------------\u001B[0m",
      "\u001B[0;31mAttributeError\u001B[0m                            Traceback (most recent call last)",
      "\u001B[0;32m<ipython-input-19-2b6857baf0cb>\u001B[0m in \u001B[0;36m<module>\u001B[0;34m\u001B[0m\n\u001B[1;32m      2\u001B[0m \u001B[0mout_dir\u001B[0m \u001B[0;34m=\u001B[0m \u001B[0;36m0\u001B[0m\u001B[0;34m\u001B[0m\u001B[0;34m\u001B[0m\u001B[0m\n\u001B[1;32m      3\u001B[0m \u001B[0mwhich_challenge\u001B[0m \u001B[0;34m=\u001B[0m \u001B[0;34m'multicoil'\u001B[0m\u001B[0;34m\u001B[0m\u001B[0;34m\u001B[0m\u001B[0m\n\u001B[0;32m----> 4\u001B[0;31m \u001B[0mimage\u001B[0m \u001B[0;34m=\u001B[0m \u001B[0msave_zero_filled\u001B[0m\u001B[0;34m(\u001B[0m\u001B[0mdata_dir\u001B[0m\u001B[0;34m,\u001B[0m \u001B[0mout_dir\u001B[0m\u001B[0;34m,\u001B[0m \u001B[0mwhich_challenge\u001B[0m\u001B[0;34m)\u001B[0m\u001B[0;34m\u001B[0m\u001B[0;34m\u001B[0m\u001B[0m\n\u001B[0m",
      "\u001B[0;32m<ipython-input-16-4c72955dd563>\u001B[0m in \u001B[0;36msave_zero_filled\u001B[0;34m(data_dir, out_dir, which_challenge)\u001B[0m\n\u001B[1;32m      2\u001B[0m     \u001B[0mreconstructions\u001B[0m \u001B[0;34m=\u001B[0m \u001B[0;34m{\u001B[0m\u001B[0;34m}\u001B[0m\u001B[0;34m\u001B[0m\u001B[0;34m\u001B[0m\u001B[0m\n\u001B[1;32m      3\u001B[0m \u001B[0;34m\u001B[0m\u001B[0m\n\u001B[0;32m----> 4\u001B[0;31m     \u001B[0;32mfor\u001B[0m \u001B[0mfname\u001B[0m \u001B[0;32min\u001B[0m \u001B[0mtqdm\u001B[0m\u001B[0;34m(\u001B[0m\u001B[0mlist\u001B[0m\u001B[0;34m(\u001B[0m\u001B[0mdata_dir\u001B[0m\u001B[0;34m.\u001B[0m\u001B[0mglob\u001B[0m\u001B[0;34m(\u001B[0m\u001B[0;34m\"*.h5\"\u001B[0m\u001B[0;34m)\u001B[0m\u001B[0;34m)\u001B[0m\u001B[0;34m)\u001B[0m\u001B[0;34m:\u001B[0m\u001B[0;34m\u001B[0m\u001B[0;34m\u001B[0m\u001B[0m\n\u001B[0m\u001B[1;32m      5\u001B[0m         \u001B[0;32mwith\u001B[0m \u001B[0mh5py\u001B[0m\u001B[0;34m.\u001B[0m\u001B[0mFile\u001B[0m\u001B[0;34m(\u001B[0m\u001B[0mfname\u001B[0m\u001B[0;34m,\u001B[0m \u001B[0;34m\"r\"\u001B[0m\u001B[0;34m)\u001B[0m \u001B[0;32mas\u001B[0m \u001B[0mhf\u001B[0m\u001B[0;34m:\u001B[0m\u001B[0;34m\u001B[0m\u001B[0;34m\u001B[0m\u001B[0m\n\u001B[1;32m      6\u001B[0m \u001B[0;34m\u001B[0m\u001B[0m\n",
      "\u001B[0;31mAttributeError\u001B[0m: 'str' object has no attribute 'glob'"
     ]
    }
   ],
   "source": [
    "data_dir  = '/home/svangurp/scratch/samuel/data/knee/train/'\n",
    "out_dir = 0\n",
    "which_challenge = 'multicoil'\n",
    "image = save_zero_filled(data_dir, out_dir, which_challenge)"
   ]
  },
  {
   "cell_type": "code",
   "execution_count": 3,
   "metadata": {},
   "outputs": [],
   "source": []
  },
  {
   "cell_type": "code",
   "execution_count": 4,
   "metadata": {},
   "outputs": [
    {
     "data": {
      "text/plain": [
       "<bound method MappingHDF5.keys of <HDF5 file \"file1000002.h5\" (mode r)>>"
      ]
     },
     "execution_count": 4,
     "metadata": {},
     "output_type": "execute_result"
    }
   ],
   "source": []
  },
  {
   "cell_type": "code",
   "execution_count": null,
   "metadata": {},
   "outputs": [],
   "source": []
  },
  {
   "cell_type": "code",
   "execution_count": null,
   "metadata": {},
   "outputs": [],
   "source": []
  },
  {
   "cell_type": "code",
   "execution_count": null,
   "metadata": {},
   "outputs": [],
   "source": []
  },
  {
   "cell_type": "code",
   "execution_count": null,
   "metadata": {},
   "outputs": [],
   "source": []
  },
  {
   "cell_type": "code",
   "execution_count": null,
   "metadata": {},
   "outputs": [],
   "source": []
  },
  {
   "cell_type": "code",
   "execution_count": null,
   "metadata": {},
   "outputs": [],
   "source": []
  },
  {
   "cell_type": "code",
   "execution_count": null,
   "metadata": {},
   "outputs": [],
   "source": []
  },
  {
   "cell_type": "code",
   "execution_count": null,
   "metadata": {},
   "outputs": [],
   "source": []
  }
 ],
 "metadata": {
  "kernelspec": {
   "display_name": "Python 3",
   "language": "python",
   "name": "python3"
  },
  "language_info": {
   "codemirror_mode": {
    "name": "ipython",
    "version": 3
   },
   "file_extension": ".py",
   "mimetype": "text/x-python",
   "name": "python",
   "nbconvert_exporter": "python",
   "pygments_lexer": "ipython3",
   "version": "3.8.8"
  }
 },
 "nbformat": 4,
 "nbformat_minor": 1
}